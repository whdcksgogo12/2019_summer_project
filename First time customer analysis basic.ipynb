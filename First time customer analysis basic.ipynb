{
 "cells": [
  {
   "cell_type": "markdown",
   "metadata": {},
   "source": [
    "# First time customer analysis basic"
   ]
  },
  {
   "cell_type": "code",
   "execution_count": null,
   "metadata": {},
   "outputs": [],
   "source": [
    "# Import libraries\n",
    "import pandas as pd"
   ]
  },
  {
   "cell_type": "code",
   "execution_count": null,
   "metadata": {},
   "outputs": [],
   "source": [
    "# Load raw data\n",
    "rev = pd.read_csv('~.csv')"
   ]
  },
  {
   "cell_type": "code",
   "execution_count": null,
   "metadata": {},
   "outputs": [],
   "source": [
    "# Data preprocessing\n",
    "## Sort by member_id and start_time\n",
    "rev = rev.sort_values(by=['member_hash_id','start_at'])\n",
    "\n",
    "## First_time reservation_id list\n",
    "first_time = list(rev.groupby('member_hash_id').nth(0)['reservation_id'])\n",
    "## First_df\n",
    "first_df = rev[rev['reservation_id'].isin(first_time)]\n",
    "\n",
    "## First_last_time_member_id list\n",
    "first_last_time = list(rev.groupby(['member_hash_id']).size()[rev.groupby(['member_hash_id']).size() == 1 ].index)\n",
    "## First_last_df\n",
    "first_last_df=rev[rev['member_hash_id'].isin(first_last_time)]\n",
    "\n",
    "## Second_time_list\n",
    "second_time = list(rev.groupby('member_hash_id').nth(1)['reservation_id'])\n",
    "## Second_df\n",
    "second_df =rev[rev['reservation_id'].isin(second_time)]"
   ]
  },
  {
   "cell_type": "code",
   "execution_count": null,
   "metadata": {},
   "outputs": [],
   "source": [
    "# Compare any colums such as region\n",
    "rev['region2'].value_counts()\n",
    "first_df['region2'].value_counts()\n",
    "first_last_df['region2'].value_counts()\n",
    "second_df['region2'].value_counts()"
   ]
  },
  {
   "cell_type": "code",
   "execution_count": null,
   "metadata": {},
   "outputs": [],
   "source": []
  }
 ],
 "metadata": {
  "kernelspec": {
   "display_name": "Python 3",
   "language": "python",
   "name": "python3"
  },
  "language_info": {
   "codemirror_mode": {
    "name": "ipython",
    "version": 3
   },
   "file_extension": ".py",
   "mimetype": "text/x-python",
   "name": "python",
   "nbconvert_exporter": "python",
   "pygments_lexer": "ipython3",
   "version": "3.7.3"
  }
 },
 "nbformat": 4,
 "nbformat_minor": 2
}
