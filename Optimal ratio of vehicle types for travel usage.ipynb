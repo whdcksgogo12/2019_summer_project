{
 "cells": [
  {
   "cell_type": "code",
   "execution_count": 1,
   "metadata": {},
   "outputs": [],
   "source": [
    "# Import libraries\n",
    "import pandas as pd"
   ]
  },
  {
   "cell_type": "code",
   "execution_count": null,
   "metadata": {},
   "outputs": [],
   "source": [
    "# Load raw data\n",
    "df = pd.read_csv('~.csv',index_col=0)"
   ]
  },
  {
   "cell_type": "code",
   "execution_count": null,
   "metadata": {},
   "outputs": [],
   "source": [
    "# Define travel destination based on data\n",
    "## Hypothesis 1 : proportion of long time reservaion is relatively high\n",
    "\n",
    "over16_df_r2 = pd.concat([df[df['utime']>16]['region2'].value_counts(sort=False),df['region2'].value_counts(sort=False)],axis=1)\n",
    "names = ['over16','total']\n",
    "over16_df_r2.columns = names\n",
    "over16_df_r2 = over16_df_r2[(over16_df_r2['over16']>100)&(over16_df_r2['total']>500)]\n",
    "over16_df_r2['over16_ratio']= over16_df_r2['over16']/over16_df_r2['total']*100\n",
    "over16_df_r2 = over16_df_r2.sort_values('over16_ratio',ascending=False)\n",
    "over16_df_r2[:14]\n",
    "\n",
    "## Hypothesis 2 : proportion of unique count is relatively high\n",
    "\n",
    "unique_id_df = pd.concat([df.groupby('region2').nunique()['member_hash_id'],df['region2'].value_counts()],axis=1)\n",
    "unique_id_df['unique_ratio']= (unique_id_df['member_hash_id']/unique_id_df['region2'])*100\n",
    "unique_id_df= unique_id_df[unique_id_df['region2']>500].sort_values(by='unique_ratio',ascending=False)\n",
    "unique_id_df[:14]\n",
    "\n",
    "## Hypothesis 3 : proportion of long lead time is relatively high\n",
    "df['lead_time'] = (df['start_at'] - df['created_at']).dt.seconds\n",
    "over50p = pd.concat([df[df['lead_time']>=df['lead_time'].quantile(.5)]['region2'].value_counts() , df['region2'].value_counts()],axis=1)\n",
    "names = ['over---','total']\n",
    "over50p.columns = names\n",
    "over50p['high_lead_time_ratio']= (over50p['over---']/over50p['total'])*100\n",
    "over50p= over50p[over50p['total']>500]\n",
    "over50p=over50p.sort_values(by='high_lead_time_ratio',ascending=False)\n",
    "over50p[:14]\n"
   ]
  },
  {
   "cell_type": "code",
   "execution_count": null,
   "metadata": {},
   "outputs": [],
   "source": [
    "# Sort sum of ratio_score\n",
    "final_df = pd.concat([over16_df_r2['over16_ratio'],unique_id_df['unique_ratio'],over50p['high_lead_time_ratio']],axis=1).dropna(how='any')\n",
    "final_df['total_score'] = final_df['over16_ratio']+ final_df['unique_ratio'] + final_df['high_lead_time_ratio']\n",
    "final_df = final_df.sort_values(by='total_score',ascending = False)\n",
    "final_df[:14]"
   ]
  }
 ],
 "metadata": {
  "kernelspec": {
   "display_name": "Python 3",
   "language": "python",
   "name": "python3"
  },
  "language_info": {
   "codemirror_mode": {
    "name": "ipython",
    "version": 3
   },
   "file_extension": ".py",
   "mimetype": "text/x-python",
   "name": "python",
   "nbconvert_exporter": "python",
   "pygments_lexer": "ipython3",
   "version": "3.7.3"
  }
 },
 "nbformat": 4,
 "nbformat_minor": 2
}
