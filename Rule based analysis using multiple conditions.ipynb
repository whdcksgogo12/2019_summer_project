{
 "cells": [
  {
   "cell_type": "markdown",
   "metadata": {},
   "source": [
    "# Rule based analysis using multiple conditions"
   ]
  },
  {
   "cell_type": "code",
   "execution_count": null,
   "metadata": {},
   "outputs": [],
   "source": [
    "# Import libraries\n",
    "import pandas as pd"
   ]
  },
  {
   "cell_type": "code",
   "execution_count": null,
   "metadata": {},
   "outputs": [],
   "source": [
    "# Load raw data\n",
    "df = pd.read_csv('~.csv',index_col = 0)"
   ]
  },
  {
   "cell_type": "code",
   "execution_count": null,
   "metadata": {},
   "outputs": [],
   "source": [
    "# Data preprocessing\n",
    "## Downsampling\n",
    "df_= df[(df['utime']<=16) | (df['utime']>0)] # 0<utime<=16 (16 hours = one day)\n",
    "df = df[((df['start_dow']==4)&(df['start_hour']>=19))|(df['start_dow']==5)|(df['start_dow']==6)]# weekend (from friday night to sunday night)\n",
    "df = df[df['start_year']==2018] # year = 2018 (recent data)\n",
    "df = df[(df['start_month']==6)|(df['start_month']==7)|(df['start_month']==8)]# 6<=month<=8 (peak season)\n",
    "## Make a new column\n",
    "df['dpu'] = df['distance']/df['utime'] # distance per time"
   ]
  },
  {
   "cell_type": "code",
   "execution_count": null,
   "metadata": {},
   "outputs": [],
   "source": [
    "# Mutiple conditions setting\n",
    "\n",
    "## Condition1 : start_hour\n",
    "dawn = (df['start_hour']<=6)&(df['start_hour']>=2)\n",
    "morning = (df['start_hour']<=10)&(df['start_hour']>=7)\n",
    "noon = (df['start_hour']<=13)&(df['start_hour']>=11)\n",
    "afternoon = (df['start_hour']<=17)&(df['start_hour']>=14)\n",
    "evening = (df['start_hour']<=21)&(df['start_hour']>=18)\n",
    "night = (df['start_hour']>=22)|(df['start_hour']<=1)\n",
    "start_hour = [dawn, morning, noon, afternoon, evening, night]\n",
    "for i in range(len(start_hour)):\n",
    "  print(len(df[start_hour[i]]))\n",
    "\n",
    "## Condition2 : utime\n",
    "utime1 = (df['utime']<=1.5)&(df['utime']>0)\n",
    "utime2 = (df['utime']<=3)&(df['utime']>1.5)\n",
    "utime3 = (df['utime']<=5)&(df['utime']>3)\n",
    "utime4 = (df['utime']<=10)&(df['utime']>5)\n",
    "utime5 = (df['utime']<=16)&(df['utime']>10)\n",
    "utime = [utime1,utime2,utime3,utime4,utime5]\n",
    "for i in range(len(utime)):\n",
    "  print(len(df[utime[i]]))\n",
    "\n",
    "## Condition3 : dpu\n",
    "dpu1 = (df['dpu']<=10)&(df['dpu']>0)\n",
    "dpu2 = (df['dpu']<=20)&(df['dpu']>10)\n",
    "dpu3 = (df['start_hour']>20)\n",
    "dpu = [dpu1, dpu2, dpu3]\n",
    "for i in range(len(dpu)):\n",
    "  print(len(df[dpu[i]]))"
   ]
  },
  {
   "cell_type": "code",
   "execution_count": null,
   "metadata": {},
   "outputs": [],
   "source": [
    "# Divide and sort processed data based on multiple conditions \n",
    "## Make two empty lists and append data based on multiple conditions \n",
    "combination_ = []\n",
    "info_ = []\n",
    "for i in range(len(start_hour)):\n",
    "  for j in range(len(utime)):\n",
    "    for k in range(len(dpu)):\n",
    "      combination_.append(str(i+1)+' '+str(j+1)+' '+str(k+1))\n",
    "      info_.append([str(i+1),str(j+1),str(k+1)]+[len(df[(start_hour[i])&(utime[j])&(dpu[k])])]+[df[(start_hour[i])&(utime[j])&(dpu[k])]['rev_total'].sum()])\n",
    "## Convert two lists into dictionary \n",
    "dict_ = dict(zip(combination_,info_))\n",
    "dict_\n",
    "\n",
    "## Convert dictionary to dataframe\n",
    "count_info = pd.DataFrame.from_dict(dict_,orient='index',columns=['start','utime','DPU','count','rev_total'])\n",
    "count_info.sort_values(by='count',ascending=False)\n",
    "\n"
   ]
  },
  {
   "cell_type": "code",
   "execution_count": null,
   "metadata": {},
   "outputs": [],
   "source": [
    "##'for loop' labeling process (consumes a lot of time)\n",
    "# start_hour labeling\n",
    "for i in range(len(df)):\n",
    "  if (df.loc[i,'st']<=6)&(df.loc[i,'start_hour']>=2):\n",
    "    df.loc[i,'시간대'] = '새벽'\n",
    "  elif (df.loc[i,'start_hour']<=10)&(df.loc[i,'start_hour']>=7):\n",
    "    df.loc[i,'시간대'] = '오전'\n",
    "  elif (df.loc[i,'start_hour']<=13)&(df.loc[i,'start_hour']>=11):\n",
    "    df.loc[i,'시간대'] = '낮'\n",
    "  elif (df.loc[i,'start_hour']<=17)&(df.loc[i,'start_hour']>=14):\n",
    "    df.loc[i,'시간대'] = '오후'\n",
    "  elif (df.loc[i,'start_hour']<=21)&(df.loc[i,'start_hour']>=18):\n",
    "    df.loc[i,'시간대'] = '저녁'\n",
    "  elif (df.loc[i,'start_hour']>=22)|(df.loc[i,'start_hour']<=1):\n",
    "    df.loc[i,'시간대'] = '심야'\n",
    "    \n",
    "#utime labeling\n",
    "for i in range(len(df)):\n",
    "  if (f.loc[i,'utime']<=1.5:\n",
    "    df.loc[i,'이용시간'] = '1.5시간 이하'\n",
    "  elif (f.loc[i,'utime']<=3:\n",
    "    df.loc[i,'이용시간'] = '1.5~3시간'\n",
    "  elif (f.loc[i,'utime']<=5:\n",
    "    df.loc[i,'이용시간'] = '3~5시간'\n",
    "  elif (f.loc[i,'utime']<=10:\n",
    "    df.loc[i,'이용시간'] = '5~10시간'\n",
    "  elif (f.loc[i,'utime']<=16:\n",
    "    df.loc[i,'이용시간'] = '10~16시간'       \n",
    "#dpu labeling\n",
    "for i in range(len(df)):\n",
    "  if (f.loc[i,'dpu']<=15:\n",
    "    df.loc[i,'시간당 거리'] = '15 이하'\n",
    "  elif (f.loc[i,'dpu']<=30:\n",
    "    df.loc[i,'시간당 거리'] = '15~30'\n",
    "  elif (f.loc[i,'dpu']<=70:\n",
    "    df.loc[i,'시간당 거리'] = '30~70'\n",
    "  elif (f.loc[i,'dpu']>70:\n",
    "    df.loc[i,'시간당 거리'] = '70 이상'"
   ]
  },
  {
   "cell_type": "code",
   "execution_count": null,
   "metadata": {},
   "outputs": [],
   "source": []
  },
  {
   "cell_type": "code",
   "execution_count": null,
   "metadata": {},
   "outputs": [],
   "source": []
  }
 ],
 "metadata": {
  "kernelspec": {
   "display_name": "Python 3",
   "language": "python",
   "name": "python3"
  },
  "language_info": {
   "codemirror_mode": {
    "name": "ipython",
    "version": 3
   },
   "file_extension": ".py",
   "mimetype": "text/x-python",
   "name": "python",
   "nbconvert_exporter": "python",
   "pygments_lexer": "ipython3",
   "version": "3.7.3"
  }
 },
 "nbformat": 4,
 "nbformat_minor": 2
}
